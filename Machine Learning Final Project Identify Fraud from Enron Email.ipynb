{
 "cells": [
  {
   "cell_type": "markdown",
   "metadata": {},
   "source": [
    "# Machine Learning Final Project: Identify Fraud from Enron Email\n",
    "\n",
    "##### Overview:\n",
    "In this project, you will play detective, and put your machine learning skills to use by building an algorithm to identify Enron Employees who may have committed fraud based on the public Enron financial and email dataset.\n",
    "\n",
    "This project will teach you the end-to-end process of investigating data through a machine learning lens. It will teach you how to extract and identify useful features that best represent your data, a few of the most commonly used machine learning algorithms today, and how to evaluate the performance of your machine learning algorithms."
   ]
  },
  {
   "cell_type": "code",
   "execution_count": 1,
   "metadata": {},
   "outputs": [
    {
     "name": "stdout",
     "output_type": "stream",
     "text": [
      "Number of POIs: 18\n",
      "Number of POIs from USA Today: 35\n"
     ]
    },
    {
     "name": "stderr",
     "output_type": "stream",
     "text": [
      "/Users/craig/anaconda/lib/python2.7/site-packages/sklearn/cross_validation.py:44: DeprecationWarning: This module was deprecated in version 0.18 in favor of the model_selection module into which all the refactored classes and functions are moved. Also note that the interface of the new CV iterators are different from that of this module. This module will be removed in 0.20.\n",
      "  \"This module will be removed in 0.20.\", DeprecationWarning)\n"
     ]
    }
   ],
   "source": [
    "#!/usr/bin/python\n",
    "\n",
    "import sys\n",
    "import pickle\n",
    "import matplotlib.pyplot as plt                                 \n",
    "sys.path.append(\"../tools/\")\n",
    "\n",
    "from feature_format import featureFormat, targetFeatureSplit\n",
    "from tester import dump_classifier_and_data\n",
    "from collections import defaultdict                              \n",
    "\n",
    "### Task 1: Select what features you'll use.\n",
    "### features_list is a list of strings, each of which is a feature name.\n",
    "### The first feature must be \"poi\".\n",
    "features_list = ['poi','salary','total_stock_value','exercised_stock_options',\n",
    "                 'total_payments','bonus','long_term_incentive','to_messages',\n",
    "                 'from_poi_to_this_person', 'from_messages',\n",
    "                 'from_this_person_to_poi','shared_receipt_with_poi']\n",
    "\n",
    "### Load the dictionary containing the dataset\n",
    "with open(\"final_project_dataset.pkl\", \"r\") as data_file:\n",
    "    data_dict = pickle.load(data_file)\n",
    "\n",
    "\n",
    "# With Persons of Interest likely playing a significatn role in our investigation, we'll\n",
    "# run summary stats on this feature group to see what we are working with in the\n",
    "# provided dataset.  \n",
    "poi_total = 0\n",
    "for person, feature in data_dict.iteritems():\n",
    "    if feature['poi']:\n",
    "        poi_total +=1\n",
    "\n",
    "print 'Number of POIs:', poi_total              \n",
    "\n",
    "\n",
    "# Supplied in the zip file from Udacity was a list of Persons of Interests, containing 35 individuals, sourced from \n",
    "# USA Today article (http://usatoday30.usatoday.com/money/industries/energy/2005-12-28-enron-participants_x.htm). \n",
    "# We identify a discrepency between the what was provided in the source file and the final_project_dataset.pkl file.\n",
    "# Is the dataset a better indicator of POI?\n",
    "with open(\"poi_names.txt\") as f:\n",
    "    poi_list_usat = len(f.readlines()[2:])\n",
    "print 'Number of POIs from USA Today:', (poi_list_usat) "
   ]
  },
  {
   "cell_type": "code",
   "execution_count": 2,
   "metadata": {},
   "outputs": [
    {
     "data": {
      "image/png": "[encoded data removed]",
      "text/plain": [
       "<matplotlib.figure.Figure at 0x10718d450>"
      ]
     },
     "metadata": {},
     "output_type": "display_data"
    }
   ],
   "source": [
    "### Task 2: Remove outliers\n",
    "\n",
    "# We can visualize some of the features we think may be indicators of fraud to get a\n",
    "# good idea of what the data looks like, potentially identifying some outliers.\n",
    "# Using the enron61702insiderpay.pdf, we see high dollar values for feature \"bonus\" and\n",
    "# \"total_stock_value\". \n",
    "features_outlier_viz = ['bonus', 'total_stock_value']\n",
    "features = featureFormat(data_dict, features_outlier_viz, sort_keys = True) \n",
    "\n",
    "for i in features:\n",
    "    bonus = i[0]\n",
    "    total_stock_value = i[1]\n",
    "    plt.scatter(bonus, total_stock_value)\n",
    "   \n",
    "\n",
    "plt.xlabel(\"Bonus\")\n",
    "plt.ylabel(\"Total Stock Value\")\n",
    "plt.show()"
   ]
  },
  {
   "cell_type": "code",
   "execution_count": 3,
   "metadata": {},
   "outputs": [
    {
     "name": "stdout",
     "output_type": "stream",
     "text": [
      "METTS MARK\n",
      "BAXTER JOHN C\n",
      "ELLIOTT STEVEN\n",
      "CORDES WILLIAM R\n",
      "HANNON KEVIN P\n",
      "MORDAUNT KRISTINA M\n",
      "MEYER ROCKFORD G\n",
      "MCMAHON JEFFREY\n",
      "HORTON STANLEY C\n",
      "PIPER GREGORY F\n",
      "HUMPHREY GENE E\n",
      "UMANOFF ADAM S\n",
      "BLACHMAN JEREMY M\n",
      "SUNDE MARTIN\n",
      "GIBBS DANA R\n",
      "LOWRY CHARLES P\n",
      "COLWELL WESLEY\n",
      "MULLER MARK S\n",
      "JACKSON CHARLENE R\n",
      "WESTFAHL RICHARD K\n",
      "WALTERS GARETH W\n",
      "WALLS JR ROBERT H\n",
      "KITCHEN LOUISE\n",
      "CHAN RONNIE\n",
      "BELFER ROBERT\n",
      "SHANKMAN JEFFREY A\n",
      "WODRASKA JOHN\n",
      "BERGSIEKER RICHARD P\n",
      "URQUHART JOHN A\n",
      "BIBI PHILIPPE A\n",
      "RIEKER PAULA H\n",
      "WHALEY DAVID A\n",
      "BECK SALLY W\n",
      "HAUG DAVID L\n",
      "ECHOLS JOHN B\n",
      "MENDELSOHN JOHN\n",
      "HICKERSON GARY J\n",
      "CLINE KENNETH W\n",
      "LEWIS RICHARD\n",
      "HAYES ROBERT E\n",
      "MCCARTY DANNY J\n",
      "KOPPER MICHAEL J\n",
      "LEFF DANIEL P\n",
      "LAVORATO JOHN J\n",
      "BERBERIAN DAVID\n",
      "DETMERING TIMOTHY J\n",
      "WAKEHAM JOHN\n",
      "POWERS WILLIAM\n",
      "GOLD JOSEPH\n",
      "BANNANTINE JAMES M\n",
      "DUNCAN JOHN H\n",
      "SHAPIRO RICHARD S\n",
      "SHERRIFF JOHN R\n",
      "SHELBY REX\n",
      "LEMAISTRE CHARLES\n",
      "DEFFNER JOSEPH M\n",
      "KISHKILL JOSEPH G\n",
      "WHALLEY LAWRENCE G\n",
      "MCCONNELL MICHAEL S\n",
      "PIRO JIM\n",
      "DELAINEY DAVID W\n",
      "SULLIVAN-SHAKLOVITZ COLLEEN\n",
      "WROBEL BRUCE\n",
      "LINDHOLM TOD A\n",
      "MEYER JEROME J\n",
      "LAY KENNETH L\n",
      "BUTTS ROBERT H\n",
      "OLSON CINDY K\n",
      "MCDONALD REBECCA\n",
      "CUMBERLAND MICHAEL S\n",
      "GAHN ROBERT S\n",
      "MCCLELLAN GEORGE\n",
      "HERMANN ROBERT J\n",
      "SCRIMSHAW MATTHEW\n",
      "GATHMANN WILLIAM D\n",
      "HAEDICKE MARK E\n",
      "BOWEN JR RAYMOND M\n",
      "GILLIS JOHN\n",
      "FITZGERALD JAY L\n",
      "MORAN MICHAEL P\n",
      "REDMOND BRIAN L\n",
      "BAZELIDES PHILIP J\n",
      "BELDEN TIMOTHY N\n",
      "DURAN WILLIAM D\n",
      "THORN TERENCE H\n",
      "FASTOW ANDREW S\n",
      "FOY JOE\n",
      "CALGER CHRISTOPHER F\n",
      "RICE KENNETH D\n",
      "KAMINSKI WINCENTY J\n",
      "LOCKHART EUGENE E\n",
      "COX DAVID\n",
      "OVERDYKE JR JERE C\n",
      "PEREIRA PAULO V. FERRAZ\n",
      "STABLER FRANK\n",
      "SKILLING JEFFREY K\n",
      "BLAKE JR. NORMAN P\n",
      "SHERRICK JEFFREY B\n",
      "PRENTICE JAMES\n",
      "GRAY RODNEY\n",
      "PICKERING MARK R\n",
      "THE TRAVEL AGENCY IN THE PARK\n",
      "NOLES JAMES L\n",
      "KEAN STEVEN J\n",
      "TOTAL\n",
      "FOWLER PEGGY\n",
      "WASAFF GEORGE\n",
      "WHITE JR THOMAS E\n",
      "CHRISTODOULOU DIOMEDES\n",
      "ALLEN PHILLIP K\n",
      "SHARP VICTORIA T\n",
      "JAEDICKE ROBERT\n",
      "WINOKUR JR. HERBERT S\n",
      "BROWN MICHAEL\n",
      "BADUM JAMES P\n",
      "HUGHES JAMES A\n",
      "REYNOLDS LAWRENCE\n",
      "DIMICHELE RICHARD G\n",
      "BHATNAGAR SANJAY\n",
      "CARTER REBECCA C\n",
      "BUCHANAN HAROLD G\n",
      "YEAP SOON\n",
      "MURRAY JULIA H\n",
      "GARLAND C KEVIN\n",
      "DODSON KEITH\n",
      "YEAGER F SCOTT\n",
      "HIRKO JOSEPH\n",
      "DIETRICH JANET R\n",
      "DERRICK JR. JAMES V\n",
      "FREVERT MARK A\n",
      "PAI LOU L\n",
      "BAY FRANKLIN R\n",
      "HAYSLETT RODERICK J\n",
      "FUGH JOHN L\n",
      "FALLON JAMES B\n",
      "KOENIG MARK E\n",
      "SAVAGE FRANK\n",
      "IZZO LAWRENCE L\n",
      "TILNEY ELIZABETH A\n",
      "MARTIN AMANDA K\n",
      "BUY RICHARD B\n",
      "GRAMM WENDY L\n",
      "CAUSEY RICHARD A\n",
      "TAYLOR MITCHELL S\n",
      "DONAHUE JR JEFFREY M\n",
      "GLISAN JR BEN F\n"
     ]
    }
   ],
   "source": [
    "# In the Outlier Mini-Project we identified \"TOTAL\" as an important outlier for removal.\n",
    "# We will include the removal of this \"individual\" as well as \"The Travel Agency in the\n",
    "# Park\" because they are not really individuals working at Enron. We will also remove\n",
    "# individuals with no data (NaN) for all features, which seemed out of place. These\n",
    "# outliers are fairly easy to identify and remove. \n",
    "for key, value in data_dict.iteritems():\n",
    "    print key"
   ]
  },
  {
   "cell_type": "code",
   "execution_count": 4,
   "metadata": {},
   "outputs": [
    {
     "name": "stdout",
     "output_type": "stream",
     "text": [
      "defaultdict(<type 'int'>, {'salary': 49, 'to_messages': 57, 'deferral_payments': 105, 'total_payments': 20, 'long_term_incentive': 78, 'loan_advances': 140, 'bonus': 62, 'restricted_stock': 34, 'restricted_stock_deferred': 126, 'total_stock_value': 18, 'shared_receipt_with_poi': 57, 'from_poi_to_this_person': 57, 'exercised_stock_options': 42, 'from_messages': 57, 'other': 52, 'from_this_person_to_poi': 57, 'deferred_income': 95, 'expenses': 49, 'email_address': 32, 'director_fees': 127})\n"
     ]
    }
   ],
   "source": [
    "# Now let's remove the obvious outliers affecting our scatterplot.\n",
    "data_dict.pop('LOCKHART EUGENE E')\n",
    "data_dict.pop('TOTAL')\n",
    "data_dict.pop('THE TRAVEL AGENCY IN THE PARK')\n",
    "\n",
    "\n",
    "# Next in assessing outlier removals we will clean missing values (NaN) in the dataset\n",
    "# while counting the number of values removed.\n",
    "clean_data = defaultdict(int)\n",
    "values = next(data_dict.itervalues()).keys()\n",
    "for key in data_dict.itervalues():\n",
    "    for value in values:\n",
    "        if key[value] == \"NaN\":\n",
    "            clean_data[value] += 1\n",
    "            \n",
    "print clean_data"
   ]
  },
  {
   "cell_type": "code",
   "execution_count": 5,
   "metadata": {
    "collapsed": true
   },
   "outputs": [],
   "source": [
    "# From the resulting output we see that there has been quite a bit of data removed.\n",
    "# In reviewing the amount of data removed for the listed features, we will clean off\n",
    "# the features with the top six highest NaN removal. This should allow for easier and\n",
    "# efficient training in our machine learning algorithm.\n",
    "\n",
    "# Features with the top six highest NaN removal: deferral_payments,\n",
    "# restricted_stock_deferred, deferred_income, loan_advances, director_fees, and\n",
    "# long_term_incentive\n",
    "\n",
    "features_clean = ['poi','salary','total_payments','bonus','total_stock_value',\n",
    "                 'exercised_stock_options','to_messages',\n",
    "                 'from_poi_to_this_person', 'from_messages',\n",
    "                 'from_this_person_to_poi','shared_receipt_with_poi'] \n"
   ]
  },
  {
   "cell_type": "code",
   "execution_count": 6,
   "metadata": {},
   "outputs": [
    {
     "data": {
      "image/png": "[encoded data removed]",
      "text/plain": [
       "<matplotlib.figure.Figure at 0x112f54490>"
      ]
     },
     "metadata": {},
     "output_type": "display_data"
    }
   ],
   "source": [
    "# Now that we have cleaned the data, we will take a look at the features with the least\n",
    "# amount of NaN removals, \"salary\" and \"total_stock_value\". We are replacing \"bonus\"\n",
    "# with \"salary\" (from the scatterplot above) because the data for this feature because\n",
    "# it has more data points, making it more robust. \n",
    "# It may be worth the time to investigate still \"bonus\" and \"total stock value\" feature\n",
    "# pairs considering that the Enron collapse was all about greed and maximizing personal\n",
    "# gain at the expense of investors. \n",
    "\n",
    "features_cleaned = ['salary', 'total_stock_value']\n",
    "features = featureFormat(data_dict, features_cleaned, remove_any_zeroes=True) \n",
    "\n",
    "for i in features:\n",
    "    salary = i[0]\n",
    "    total_stock_value = i[1]\n",
    "    plt.scatter(salary, total_stock_value)\n",
    "\n",
    "plt.xlabel(\"Salary\")\n",
    "plt.ylabel(\"Total Stock Value\")\n",
    "plt.xlim(0, 1200000)\n",
    "plt.ylim(0, 51000000)\n",
    "plt.show()"
   ]
  },
  {
   "cell_type": "code",
   "execution_count": 7,
   "metadata": {},
   "outputs": [
    {
     "name": "stdout",
     "output_type": "stream",
     "text": [
      "Training Length Salary: 94\n",
      "Training Length TSV: 125\n"
     ]
    }
   ],
   "source": [
    "# With the features cleaned, lets train the data to apply regression.  \n",
    "\n",
    "salary_feature = ['salary']\n",
    "tsv_feature = ['total_stock_value']\n",
    "\n",
    "salary_train = featureFormat(data_dict, salary_feature, remove_any_zeroes=True)\n",
    "tsv_train = featureFormat(data_dict, tsv_feature, remove_any_zeroes=True)\n",
    "\n",
    "print 'Training Length Salary:', len(salary_train)\n",
    "print 'Training Length TSV:', len(tsv_train)"
   ]
  },
  {
   "cell_type": "code",
   "execution_count": 8,
   "metadata": {
    "collapsed": true
   },
   "outputs": [],
   "source": [
    "# By printing out the lengths of the salary and tsv training data we find 94 and 125 data points\n",
    "# respectively. We ran into a ValueError when attempting to set our regression to these values. \n",
    "# Limiting the points to the lowest figure (salary: 94) seems to correct this.\n",
    "\n",
    "salary_train = salary_train[:94]\n",
    "tsv_train = tsv_train[:94]\n",
    "\n",
    "from sklearn import linear_model\n",
    "reg = linear_model.LinearRegression()\n",
    "reg.fit(salary_train, tsv_train)\n",
    "\n",
    "pred_tsv = reg.predict(salary_train)\n",
    "\n",
    "features_cleaned = ['salary', 'total_stock_value']"
   ]
  },
  {
   "cell_type": "code",
   "execution_count": 11,
   "metadata": {},
   "outputs": [
    {
     "data": {
      "image/png": "[encoded data removed]",
      "text/plain": [
       "<matplotlib.figure.Figure at 0x1131ded90>"
      ]
     },
     "metadata": {},
     "output_type": "display_data"
    },
    {
     "name": "stdout",
     "output_type": "stream",
     "text": [
      "Regression Model Coefficient: [[ 0.4216998]]\n",
      "Regression Model Intercept: [ 2820872.31776523]\n",
      "Regression Model Score: 1.0\n"
     ]
    }
   ],
   "source": [
    "# We can now plot the linear regression model over top the scatter plot from above \n",
    "features_a = featureFormat(data_dict, features_cleaned, remove_any_zeroes=True) \n",
    "\n",
    "for i in features_a:\n",
    "    salary = i[0]\n",
    "    total_stock_value = i[1]\n",
    "    plt.scatter(salary, total_stock_value, color = 'black')\n",
    "\n",
    "plt.xlabel(\"Salary\")\n",
    "plt.ylabel(\"Total Stock Value\")\n",
    "plt.xlim(0, 1400000)\n",
    "plt.ylim(0, 55000000)\n",
    "plt.plot(salary_train, pred_tsv, color=\"r\")\n",
    "plt.show()\n",
    "\n",
    "print 'Regression Model Coefficient:', (reg.coef_)\n",
    "print 'Regression Model Intercept:', (reg.intercept_)\n",
    "print 'Regression Model Score:', (reg.score(salary_train, pred_tsv))\n",
    "\n",
    "# This is a linear regression model of our cleaned data in order to understand how our \n",
    "# outlier removals are affecting the data. From the results we notice data points \n",
    "# clearly outside our predicted linear regression. Removing these outliers could have \n",
    "# a significant impact on revealing interesting information about our POIs."
   ]
  },
  {
   "cell_type": "code",
   "execution_count": 21,
   "metadata": {},
   "outputs": [],
   "source": [
    "### list the features you want to look at--first item in the \n",
    "### list will be the \"target\" feature\n",
    "\n",
    "#features_cleaned = ['salary', 'total_stock_value']\n",
    "#features1 = featureFormat(data_dict, features_cleaned, remove_any_zeroes=True) \n",
    "#target, features = targetFeatureSplit(data)\n",
    "\n",
    "### training-testing split needed in regression, just like classification\n",
    "#from sklearn.cross_validation import train_test_split\n",
    "#feature_train, feature_test, target_train, target_test = train_test_split(features, target, \n",
    "#                                                                          test_size=0.5, random_state=42)\n",
    "#train_color = \"b\"\n",
    "#test_color = \"r\"\n",
    "\n",
    "\n",
    "### Your regression goes here!\n",
    "#from sklearn.linear_model import LinearRegression\n",
    "\n",
    "#reg = LinearRegression()\n",
    "#reg.fit(feature_train, target_train)\n",
    "\n",
    "#print \"r-squared_score train:\", reg.score(feature_train, target_train)     #Regression Score Training Data\n",
    "#print \"r-squared_score test:\", reg.score(feature_test, target_test)        #Regression Score: Test Data\n",
    "#print \"slope:\", reg.coef_\n",
    "#print \"intercept:\", reg.intercept_\n",
    "\n",
    "\n",
    "### draw the scatterplot, with color-coded training and testing points\n",
    "#import matplotlib.pyplot as plt\n",
    "#for feature, target in zip(feature_test, target_test):\n",
    "#    plt.scatter( feature, target, color=test_color ) \n",
    "#for feature, target in zip(feature_train, target_train):\n",
    "#    plt.scatter( feature, target, color=train_color ) \n",
    "\n",
    "### labels for the legend\n",
    "#plt.scatter(feature_test[0], target_test[0], color=test_color, label=\"test\")\n",
    "#plt.scatter(feature_test[0], target_test[0], color=train_color, label=\"train\")\n",
    "\n",
    "\n",
    "### draw the regression line, once it's coded\n",
    "#try:\n",
    "#    plt.plot(feature_test, reg.predict(feature_test) )\n",
    "#except NameError:\n",
    "#    pass\n",
    "#plt.xlabel(features_cleaned[1])\n",
    "#plt.ylabel(features_cleaned[0])\n",
    "#plt.legend()\n",
    "#plt.show()"
   ]
  },
  {
   "cell_type": "code",
   "execution_count": 12,
   "metadata": {},
   "outputs": [
    {
     "name": "stdout",
     "output_type": "stream",
     "text": [
      "['poi', 'salary', 'total_payments', 'bonus', 'total_stock_value', 'exercised_stock_options', 'to_messages', 'from_poi_to_this_person', 'from_messages', 'from_this_person_to_poi', 'shared_receipt_with_poi', 'stock_salary_ratio']\n"
     ]
    }
   ],
   "source": [
    "### Task 3: Create new feature(s)\n",
    "### Store to my_dataset for easy export below.\n",
    "\n",
    "# Based on reporting of the Enron failures we identify that stock options played\n",
    "# a significant role in the astronomical incentives to game the system. This is \n",
    "# evident because it allowed executives to pick their moment to buy low and sell \n",
    "# high, cashing in big on the company's stock. With this is mind it might be \n",
    "# prudent to identify when salary and total_stock_value are misaligned. We will\n",
    "# make sure to include the cleaned stock_salary_ration feature in our feature \n",
    "# list in order to see if it should be considered in our feature list.\n",
    "\n",
    "features_list = ['poi','salary','total_payments','bonus','total_stock_value',\n",
    "                 'exercised_stock_options','to_messages',\n",
    "                 'from_poi_to_this_person', 'from_messages',\n",
    "                 'from_this_person_to_poi','shared_receipt_with_poi'] \n",
    "\n",
    "for key, value in data_dict.iteritems():\n",
    "    if value[\"salary\"]!='NaN' and value[\"total_stock_value\"]!='NaN':\n",
    "        data_dict[key][\"stock_salary_ratio\"] = data_dict[key][\"total_stock_value\"]/data_dict[key][\"salary\"]\n",
    "    else: \n",
    "        data_dict[key][\"stock_salary_ratio\"] = 'NaN'\n",
    "\n",
    "features_list.append(\"stock_salary_ratio\")\n",
    "print features_list"
   ]
  },
  {
   "cell_type": "code",
   "execution_count": 13,
   "metadata": {},
   "outputs": [
    {
     "name": "stdout",
     "output_type": "stream",
     "text": [
      "[('salary', 18.003739993113935), ('total_payments', 8.671773243105207), ('bonus', 20.524645181851792), ('total_stock_value', 23.898259813869416), ('exercised_stock_options', 24.532722463057976), ('to_messages', 1.5942560277180795), ('from_poi_to_this_person', 5.1422191945069704), ('from_messages', 0.1753832041587958), ('from_this_person_to_poi', 2.3388361146462624), ('shared_receipt_with_poi', 8.4326354230246814), ('stock_salary_ratio', 0.11905356728510776)]\n"
     ]
    }
   ],
   "source": [
    "# We will use SelectKBest to determine which of our features are best used.\n",
    "from sklearn.feature_selection import SelectKBest\n",
    "\n",
    "data = featureFormat(data_dict, features_list)\n",
    "labels, features = targetFeatureSplit(data)\n",
    "\n",
    "k_best = SelectKBest(k='all')\n",
    "k_best.fit(features, labels)\n",
    "scores = k_best.scores_\n",
    "pairs = zip(features_list[1:15], scores)\n",
    "\n",
    "print pairs"
   ]
  },
  {
   "cell_type": "code",
   "execution_count": 14,
   "metadata": {},
   "outputs": [
    {
     "name": "stdout",
     "output_type": "stream",
     "text": [
      "['poi', 'salary', 'total_payments', 'bonus', 'total_stock_value', 'exercised_stock_options', 'from_poi_to_this_person', 'shared_receipt_with_poi']\n"
     ]
    }
   ],
   "source": [
    "# With the prevention of overfitting in mind let us remove the four features with a \n",
    "# KBest value score over 5. Interestingly, despite our initial thoughts on the \n",
    "# potential importance of stock_salary_ratio SelectKBest did not identify this \n",
    "# feature as required for inclusion in our list. \n",
    "\n",
    "features_list.remove(\"to_messages\")\n",
    "features_list.remove(\"from_messages\")\n",
    "features_list.remove(\"from_this_person_to_poi\")\n",
    "features_list.remove(\"stock_salary_ratio\")\n",
    "\n",
    "print features_list"
   ]
  },
  {
   "cell_type": "code",
   "execution_count": 15,
   "metadata": {},
   "outputs": [
    {
     "name": "stdout",
     "output_type": "stream",
     "text": [
      "Labels: 142\n",
      "Features: 142\n"
     ]
    }
   ],
   "source": [
    "# Perhaps unsurprisingly most of the features that were identified for removal\n",
    "# were related to the emails. \n",
    "\n",
    "\n",
    "my_dataset = data_dict\n",
    "\n",
    "### Extract features and labels from dataset for local testing\n",
    "data = featureFormat(my_dataset, features_list, sort_keys = True)\n",
    "labels, features = targetFeatureSplit(data)\n",
    "\n",
    "print 'Labels:', len(labels)\n",
    "print 'Features:', len(features)\n"
   ]
  },
  {
   "cell_type": "code",
   "execution_count": 16,
   "metadata": {},
   "outputs": [
    {
     "name": "stdout",
     "output_type": "stream",
     "text": [
      "NB Precision: 0.555555555556\n",
      "NB Recall: 0.454545454545\n",
      "NB Accuracy: 0.859154929577\n"
     ]
    },
    {
     "name": "stderr",
     "output_type": "stream",
     "text": [
      "/Users/craig/anaconda/lib/python2.7/site-packages/sklearn/grid_search.py:43: DeprecationWarning: This module was deprecated in version 0.18 in favor of the model_selection module into which all the refactored classes and functions are moved. This module will be removed in 0.20.\n",
      "  DeprecationWarning)\n"
     ]
    }
   ],
   "source": [
    "### Task 4: Try a varity of classifiers\n",
    "### Please name your classifier clf for easy export below.\n",
    "### Note that if you want to do PCA or other multi-stage operations,\n",
    "### you'll need to use Pipelines. For more info:\n",
    "### http://scikit-learn.org/stable/modules/pipeline.html\n",
    "\n",
    "# Data split into training and test datasets.\n",
    "from sklearn.cross_validation import train_test_split\n",
    "features_train, features_test, labels_train, labels_test = \\\n",
    "    train_test_split(features, labels, test_size=0.5, random_state=42)\n",
    "\n",
    "\n",
    "# Provided to give you a starting point. Try a variety of classifiers.\n",
    "# We'll explore a variety of classification algorithms to gauge which\n",
    "# works best. \n",
    "\n",
    "# Naive Bayes supervised classification algorithm and accuracy testing.\n",
    "# First classifier.\n",
    "from sklearn.naive_bayes import GaussianNB\n",
    "from sklearn.metrics import accuracy_score\n",
    "from sklearn.cross_validation import StratifiedShuffleSplit\n",
    "from sklearn import grid_search\n",
    "from sklearn.pipeline import Pipeline\n",
    "from sklearn.metrics import precision_score\n",
    "from sklearn.metrics import recall_score\n",
    "\n",
    "clf_nb = GaussianNB()\n",
    "clf_nb.fit(features_train, labels_train)\n",
    "pred = clf_nb.predict(features_test)\n",
    "accuracy_nb = accuracy_score(pred, labels_test)\n",
    "\n",
    "print 'NB Precision:', precision_score(labels_test, pred)\n",
    "print 'NB Recall:', recall_score(labels_test, pred)\n",
    "print 'NB Accuracy:', accuracy_nb"
   ]
  },
  {
   "cell_type": "code",
   "execution_count": 17,
   "metadata": {},
   "outputs": [
    {
     "name": "stdout",
     "output_type": "stream",
     "text": [
      "SVM Precision: 0.0\n",
      "SVM Recall: 0.0\n",
      "SVM Accuracy: 0.845070422535\n"
     ]
    },
    {
     "name": "stderr",
     "output_type": "stream",
     "text": [
      "/Users/craig/anaconda/lib/python2.7/site-packages/sklearn/metrics/classification.py:1113: UndefinedMetricWarning: Precision is ill-defined and being set to 0.0 due to no predicted samples.\n",
      "  'precision', 'predicted', average, warn_for)\n"
     ]
    }
   ],
   "source": [
    "# Support Vector Machines (SVM) supervised classification algorithm and\n",
    "# accuracy testing.\n",
    "# Second classifier.\n",
    "from sklearn.svm import SVC\n",
    "\n",
    "clf_svm = SVC()\n",
    "clf_svm.fit(features_train, labels_train)\n",
    "pred = clf_svm.predict(features_test)\n",
    "accuracy_svm = accuracy_score(pred, labels_test)\n",
    "\n",
    "print 'SVM Precision:', precision_score(labels_test, pred)\n",
    "print 'SVM Recall:', recall_score(labels_test, pred)\n",
    "print 'SVM Accuracy:', accuracy_svm"
   ]
  },
  {
   "cell_type": "code",
   "execution_count": 18,
   "metadata": {},
   "outputs": [
    {
     "name": "stdout",
     "output_type": "stream",
     "text": [
      "Precision_KNC: 0.0\n",
      "Recall_KNC: 0.0\n",
      "Accuracy_KNC: 0.845070422535\n"
     ]
    }
   ],
   "source": [
    "# K-Nearest Neighbors supervised classification algorithm and accuracy\n",
    "# testing.\n",
    "# Third classifier.\n",
    "from sklearn.neighbors import KNeighborsClassifier\n",
    "\n",
    "clf_knn = KNeighborsClassifier()\n",
    "clf_knn.fit(features_train, labels_train) \n",
    "pred = clf_knn.predict(features_test)\n",
    "accuracy_knn = accuracy_score(pred, labels_test)\n",
    "\n",
    "print 'Precision_KNC:', precision_score(labels_test, pred)\n",
    "print 'Recall_KNC:', recall_score(labels_test, pred)\n",
    "print 'Accuracy_KNC:', accuracy_knn"
   ]
  },
  {
   "cell_type": "code",
   "execution_count": 19,
   "metadata": {},
   "outputs": [
    {
     "name": "stdout",
     "output_type": "stream",
     "text": [
      "DT Precision: 0.25\n",
      "DT Recall: 0.181818181818\n",
      "DT Accuracy: 0.788732394366\n"
     ]
    }
   ],
   "source": [
    "# Decision Tree supervised classification algorithm and accuracy testing.\n",
    "# Fourht classifier.\n",
    "from sklearn import tree\n",
    "\n",
    "clf_dt = tree.DecisionTreeClassifier()\n",
    "clf_dt.fit(features_train, labels_train)\n",
    "\n",
    "pred = clf_dt.predict(features_test)\n",
    "\n",
    "accuracy_dt = accuracy_score(pred, labels_test)\n",
    "\n",
    "print 'DT Precision:', precision_score(labels_test, pred)\n",
    "print 'DT Recall:', recall_score(labels_test, pred)\n",
    "print 'DT Accuracy:', accuracy_dt"
   ]
  },
  {
   "cell_type": "code",
   "execution_count": 22,
   "metadata": {},
   "outputs": [
    {
     "data": {
      "text/plain": [
       "{'n_neighbors': 6, 'weights': 'uniform'}"
      ]
     },
     "execution_count": 22,
     "metadata": {},
     "output_type": "execute_result"
    }
   ],
   "source": [
    "### Task 5: Tune your classifier to achieve better than .3 precision and recall \n",
    "### using our testing script. Check the tester.py script in the final project\n",
    "### folder for details on the evaluation method, especially the test_classifier\n",
    "### function. Because of the small size of the dataset, the script uses\n",
    "### stratified shuffle split cross validation. For more info: \n",
    "### http://scikit-learn.org/stable/modules/generated/sklearn.cross_validation.StratifiedShuffleSplit.html\n",
    "\n",
    "# After struggling to work through various iterations of each of the four classifiers\n",
    "# above, I decided to search through the UDacity forums for guidance. I eventually \n",
    "# found posts related to KNeighbors parameter tuning and GridSearchCV discussions\n",
    "# that proved helpful. \n",
    "\n",
    "from sklearn.neighbors import KNeighborsClassifier\n",
    "\n",
    "parameters_1 = {'n_neighbors': [1, 2, 4, 6, 8, 10, 12, 14, 16, 18], \n",
    "              'weights': ('distance', 'uniform')}\n",
    "knc = KNeighborsClassifier()\n",
    "clf_bp = grid_search.GridSearchCV(knc, parameters_1)\n",
    "clf_bp.fit(features, labels)\n",
    "clf_bp.best_params_"
   ]
  },
  {
   "cell_type": "code",
   "execution_count": 23,
   "metadata": {},
   "outputs": [
    {
     "name": "stdout",
     "output_type": "stream",
     "text": [
      "0.845070422535\n"
     ]
    }
   ],
   "source": [
    "from sklearn.neighbors import KNeighborsClassifier\n",
    "\n",
    "clf_b = KNeighborsClassifier(n_neighbors = 6, weights = 'uniform')\n",
    "clf_b.fit(features_train, labels_train) \n",
    "pred = clf_b.predict(features_test)\n",
    "accuracy_b = accuracy_score(labels_test, pred)\n",
    "\n",
    "print accuracy_b\n",
    "\n",
    "# From the results using GridSearchCV to find the best parameters, we notice that the accuracy\n",
    "# remains unchanged from the initial classifier, in Task 4. With no impact on accuracy I'm\n",
    "# looking forward to see the impact on precision and recall. Let's tweak Pipeline in order\n",
    "# to meet the required guidlines for this project."
   ]
  },
  {
   "cell_type": "code",
   "execution_count": 25,
   "metadata": {},
   "outputs": [
    {
     "name": "stderr",
     "output_type": "stream",
     "text": [
      "/Users/craig/anaconda/lib/python2.7/site-packages/sklearn/metrics/classification.py:1113: UndefinedMetricWarning: F-score is ill-defined and being set to 0.0 due to no predicted samples.\n",
      "  'precision', 'predicted', average, warn_for)\n"
     ]
    }
   ],
   "source": [
    "from sklearn import preprocessing\n",
    "\n",
    "skb = SelectKBest()\n",
    "scaler = preprocessing.MinMaxScaler()\n",
    "knc = KNeighborsClassifier()\n",
    "pipe = Pipeline(steps=[('scaling', scaler), (\"SKB\", skb), (\"KNeighborsClassifier\", \n",
    "                       knc)])\n",
    "\n",
    "\n",
    "parameters = {'SKB__k': range(1,7), 'KNeighborsClassifier__n_neighbors': [1, 4, 8, 16, 24, 32, 40, 48, 56, 64], \n",
    "              'KNeighborsClassifier__weights': ('distance', 'uniform')}\n",
    "\n",
    "cv_sss = StratifiedShuffleSplit(labels, 100, random_state=45)\n",
    "clf_knc = grid_search.GridSearchCV(pipe, parameters, scoring = \"f1\", cv=cv_sss)\n",
    "clf_knc.fit(features, labels)\n",
    "clf = clf_knc.best_estimator_"
   ]
  },
  {
   "cell_type": "code",
   "execution_count": 26,
   "metadata": {},
   "outputs": [
    {
     "name": "stdout",
     "output_type": "stream",
     "text": [
      "Pipeline(steps=[('scaling', MinMaxScaler(copy=True, feature_range=(0, 1))), ('SKB', SelectKBest(k=3, score_func=<function f_classif at 0x11322a6e0>)), ('KNeighborsClassifier', KNeighborsClassifier(algorithm='auto', leaf_size=30, metric='minkowski',\n",
      "           metric_params=None, n_jobs=1, n_neighbors=4, p=2,\n",
      "           weights='distance'))])\n",
      "\tAccuracy: 0.86267\tPrecision: 0.47642\tRecall: 0.30300\tF1: 0.37042\tF2: 0.32679\n",
      "\tTotal predictions: 15000\tTrue positives:  606\tFalse positives:  666\tFalse negatives: 1394\tTrue negatives: 12334\n",
      "\n"
     ]
    }
   ],
   "source": [
    "# Now we'll test our parameter tweaks using the supplied Tester Script to identify precision\n",
    "# recall and accuracy of this new KNeighbors classifier. \n",
    "\n",
    "from tester import test_classifier\n",
    "\n",
    "test_classifier(clf, my_dataset, features_list)"
   ]
  },
  {
   "cell_type": "code",
   "execution_count": 27,
   "metadata": {
    "collapsed": true
   },
   "outputs": [],
   "source": [
    "### Task 6: Dump your classifier, dataset, and features_list so anyone can\n",
    "### check your results. You do not need to change anything below, but make sure\n",
    "### that the version of poi_id.py that you submit can be run on its own and\n",
    "### generates the necessary .pkl files for validating your results.\n",
    "\n",
    "dump_classifier_and_data(clf, my_dataset, features_list)"
   ]
  },
  {
   "cell_type": "code",
   "execution_count": null,
   "metadata": {
    "collapsed": true
   },
   "outputs": [],
   "source": []
  }
 ],
 "metadata": {
  "kernelspec": {
   "display_name": "Python [conda root]",
   "language": "python",
   "name": "conda-root-py"
  },
  "language_info": {
   "codemirror_mode": {
    "name": "ipython",
    "version": 2
   },
   "file_extension": ".py",
   "mimetype": "text/x-python",
   "name": "python",
   "nbconvert_exporter": "python",
   "pygments_lexer": "ipython2",
   "version": "2.7.13"
  }
 },
 "nbformat": 4,
 "nbformat_minor": 2
}
